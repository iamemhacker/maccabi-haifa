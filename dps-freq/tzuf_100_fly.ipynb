{
 "cells": [
  {
   "cell_type": "markdown",
   "id": "f37ca095-b085-4012-8498-00adebf45dff",
   "metadata": {},
   "source": [
    "# Tzuf 100 fly Analysis"
   ]
  },
  {
   "cell_type": "markdown",
   "id": "46201f68-b021-4cba-a10c-60fe2c2084a0",
   "metadata": {},
   "source": [
    "## 1. Start"
   ]
  },
  {
   "cell_type": "markdown",
   "id": "2a128c2e-ba4b-4cce-ab6e-10a64f0ee4f4",
   "metadata": {},
   "source": [
    "RT - $0.6s$"
   ]
  },
  {
   "cell_type": "markdown",
   "id": "c5a6dcd1-45f8-411b-85c6-aa0e9567ec0a",
   "metadata": {},
   "source": [
    "<div>\n",
    "<img src=\"_data/tzuf_start.png\" width=\"600\"/>\n",
    "</div>"
   ]
  },
  {
   "cell_type": "markdown",
   "id": "d4c17d1e-3b8e-44e9-9652-2cf868344eb8",
   "metadata": {},
   "source": [
    "<div>\n",
    "<img src=\"_data/tzuf_water_entry.png\" width=\"600\"/>\n",
    "</div>"
   ]
  },
  {
   "cell_type": "markdown",
   "id": "b6c0eb7a-26b3-40a8-b45a-f38b48d0634d",
   "metadata": {},
   "source": [
    "<div>\n",
    "<img src=\"_data/tzuf_water_entry2.png\" width=\"600\"/>\n",
    "</div>"
   ]
  },
  {
   "cell_type": "markdown",
   "id": "0a9ccb19-4a98-49e0-aaad-a9e106a07ded",
   "metadata": {},
   "source": [
    "## Underwater"
   ]
  },
  {
   "cell_type": "markdown",
   "id": "08a64e5f-a5c4-4c06-895b-d3ef64b89b84",
   "metadata": {},
   "source": [
    "* Time: $5.6s$\n",
    "* Distance: $\\sim14m$\n",
    "* Speed: $2.4\\frac{m}{sec}$"
   ]
  },
  {
   "cell_type": "markdown",
   "id": "df879630-768c-408f-b756-0094de47a481",
   "metadata": {},
   "source": [
    "<div>\n",
    "<img src=\"_data/tzuf_breakout.png\" width=\"600\"/>\n",
    "</div>"
   ]
  },
  {
   "cell_type": "markdown",
   "id": "1370cade-4c11-4117-a9f5-74e885e77673",
   "metadata": {},
   "source": [
    "### Insights"
   ]
  },
  {
   "cell_type": "markdown",
   "id": "98162f26-f247-49bc-bbf5-6565bea3aa11",
   "metadata": {},
   "source": [
    "* First in the field.\n",
    "* Comperison to median in 100 fly final @Fukuoka: $\\langle 5.2sec, 14m +, 2.9\\frac{m}{sec} \\rangle$\n",
    "* Lost some distance and momentun at the start."
   ]
  },
  {
   "cell_type": "markdown",
   "id": "54e8c640-7451-46af-92fc-3f2a2bbb95ab",
   "metadata": {},
   "source": [
    "## AW"
   ]
  },
  {
   "cell_type": "markdown",
   "id": "1cc1eab2-772b-4460-a668-3628b4de57da",
   "metadata": {},
   "source": [
    "* 21 cycles\n",
    "* Average DPS: 1.71 $\\frac{m}{cycle}$\n",
    "* Frequency: $50\\frac{cycles}{minute}$\n",
    "* Speed: $1.45\\frac{m}{sec}$\n",
    "* Split time: $30.44s$ ($24.84s$ surfaced swim)"
   ]
  },
  {
   "cell_type": "markdown",
   "id": "ba02defe-3dd9-4187-bc19-bf54d290312e",
   "metadata": {},
   "source": [
    "### Insights"
   ]
  },
  {
   "cell_type": "markdown",
   "id": "2685e45e-21f5-48f5-9062-b518aef1f20b",
   "metadata": {},
   "source": [
    "These data perfectly aligns with the test we have done.\n",
    "\n",
    "* This is Tzuf's comfort zone, great DPS.\n",
    "  However, the frequency is a beat low compared to what we see at the world's top,\n",
    "where the frequency of the frontend is in the range of $52-57 \\frac{cycles}{min}$\n",
    "* It should be mentioned that Tzuf's DPS of 1.71 puts here right at the top of the list.\n",
    "* It would be great to see Tzuf go up to a frequency of $45 \\frac{cycles}{min}$ as a first milestone,\n",
    "  while maintaining her DPS. This should get us to a split-time of $29s$ flat.\n",
    "* (I beat this will make Ofir something to think about) ;-)."
   ]
  },
  {
   "cell_type": "markdown",
   "id": "10b30da4-5b13-45e1-b408-1f47f7671e9a",
   "metadata": {},
   "source": [
    "## Backend"
   ]
  },
  {
   "cell_type": "markdown",
   "id": "5e0e269c-a9d7-445e-84c2-41a2a572d08b",
   "metadata": {},
   "source": [
    "<div>\n",
    "<img src=\"_data/tzuf_breakout2.png\" width=\"600\"/>\n",
    "</div>"
   ]
  },
  {
   "cell_type": "markdown",
   "id": "39e813d6-6a65-4405-9da4-419d9c2fff9a",
   "metadata": {},
   "source": [
    "## UW 2"
   ]
  },
  {
   "cell_type": "markdown",
   "id": "ff2e1295-13c5-45ef-bd05-519cae1dc115",
   "metadata": {},
   "source": [
    "* Time: $4.9s$\n",
    "* Distance: $\\sim8m$\n",
    "* Speed: 1.6 $\\frac{m}{sec}$"
   ]
  },
  {
   "cell_type": "markdown",
   "id": "66d906d9-8943-42b9-be91-0d8258b8c361",
   "metadata": {},
   "source": [
    "The benchmark (world's top) is $\\langle 6.6s$, Distance: $~12.5$, Speed: $1.88\\frac{m}{sec}\\rangle$"
   ]
  },
  {
   "cell_type": "markdown",
   "id": "a6b1cf4d-3fa8-4a5a-929e-bc44f5388282",
   "metadata": {},
   "source": [
    "## Insights\n",
    "* Naturally, we have a way to go here, both in terms of distance, and speed, but $\\ldots$\n",
    "* Tzuf's uw2 speed is pretty much proportional to her time, compared to the winning swim @Fukuoka: ($\\frac{56}{64}=0.87 \\approx \\frac{1.66}{1.88}=0.85$).\n",
    "* The uw2 distance is a beat behind with performance ration of $\\frac{8}{12.5}=0.64$.\n",
    "* I cannot make a recommendation at this point what it is I think we should focus on (uw distance, or speed). After the lactic acid test we should be in a better position to do so."
   ]
  },
  {
   "cell_type": "markdown",
   "id": "19db9979-6aea-40ac-803d-09776d2ff13b",
   "metadata": {},
   "source": [
    "# AW2"
   ]
  },
  {
   "cell_type": "markdown",
   "id": "bdab63cb-cc5c-4bb3-8394-77f5a0359eed",
   "metadata": {},
   "source": [
    "* 26 cycles\n",
    "* Average DPS: 1.61\n",
    "* Frequency: $53\\frac{cycles}{minute}$\n",
    "* Speed: $1.43\\frac{m}{sec}$\n",
    "* Time: $34.1s$ ($29.2$ surfaced swim)"
   ]
  },
  {
   "cell_type": "markdown",
   "id": "a17661a8-46c0-419a-b67e-2abcbb05d4e8",
   "metadata": {},
   "source": [
    "## Insights\n",
    "\n",
    "* There is a big difference in the way Tzuf has swam the front and the back end, as the frequency changed from $42.7 \\rightarrow 53$\n",
    "* Simliarly, so have the DPS $1.71 \\rightarrow 1.61$\n",
    "* Encouraging to see a minor speed drop of $\\le 1 \\%$\n",
    "* Is this change in frequency/DPS is intentional? I think we should try and figure out whether this is what we wanna do."
   ]
  }
 ],
 "metadata": {
  "kernelspec": {
   "display_name": "Python 3 (ipykernel)",
   "language": "python",
   "name": "python3"
  },
  "language_info": {
   "codemirror_mode": {
    "name": "ipython",
    "version": 3
   },
   "file_extension": ".py",
   "mimetype": "text/x-python",
   "name": "python",
   "nbconvert_exporter": "python",
   "pygments_lexer": "ipython3",
   "version": "3.11.5"
  }
 },
 "nbformat": 4,
 "nbformat_minor": 5
}
