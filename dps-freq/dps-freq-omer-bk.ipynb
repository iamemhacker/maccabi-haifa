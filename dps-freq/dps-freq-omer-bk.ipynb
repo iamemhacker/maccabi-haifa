{
 "cells": [
  {
   "cell_type": "code",
   "execution_count": 1,
   "id": "018c44e6-a51c-4193-9c67-7785f0b355fd",
   "metadata": {},
   "outputs": [],
   "source": [
    "import pandas as pd\n",
    "from toolkit.utils import prepare_dps_freq, display_analysis"
   ]
  },
  {
   "cell_type": "markdown",
   "id": "cd42d92c",
   "metadata": {},
   "source": [
    "## Introduction\n",
    "\n",
    "This experiment is the first phase of our endevour to optimize the frontend of the race.\n",
    "This optimization effort is done in a situation in which maximizing will hurt us on others.\n",
    "(_e.g._, increasing frequency in most cases will favor the split time on one hand,\n",
    "and would hurt the DPS as well as the physical condition of the swimmer). \n",
    "\n",
    "## About the results\n",
    "\n",
    "Our experiment is consisted of 4-5 time of pairs of $25m$ interval, in linearily increasing cycle frequency.\n",
    "The $X$ axis is the frequency (mesearued in cycles/minute),\n",
    "the $Y$ axis represents the Distance-per-stroke (DPS), whereas the $Z$ axis is the measured speed.\n",
    "\n",
    "## Note\n",
    "The _Time_ columns represents the time of the surfaced swimming only, whereas the _Speed_ column is $25m$ divided by the total lap time - surfaced and submerged swimming. \n",
    "\n",
    "The experiment was done in a standard SCM pool."
   ]
  },
  {
   "cell_type": "markdown",
   "id": "96d8357c-79fa-46d4-abcf-46123e43f661",
   "metadata": {},
   "source": [
    "## Omer (BK)"
   ]
  },
  {
   "cell_type": "code",
   "execution_count": 2,
   "id": "9b11a699-3719-4b51-baeb-610e74fb4b7a",
   "metadata": {},
   "outputs": [
    {
     "ename": "AssertionError",
     "evalue": "Column 'measurement' is missing from data file",
     "output_type": "error",
     "traceback": [
      "\u001b[0;31m---------------------------------------------------------------------------\u001b[0m",
      "\u001b[0;31mAssertionError\u001b[0m                            Traceback (most recent call last)",
      "\u001b[1;32m/Users/eliormalul/work/maccabi-haifa/dps-freq/dps-freq-omer-bk.ipynb Cell 4\u001b[0m line \u001b[0;36m5\n\u001b[1;32m      <a href='vscode-notebook-cell:/Users/eliormalul/work/maccabi-haifa/dps-freq/dps-freq-omer-bk.ipynb#W3sZmlsZQ%3D%3D?line=0'>1</a>\u001b[0m \u001b[39mimport\u001b[39;00m \u001b[39mnumpy\u001b[39;00m \u001b[39mas\u001b[39;00m \u001b[39mnp\u001b[39;00m\n\u001b[1;32m      <a href='vscode-notebook-cell:/Users/eliormalul/work/maccabi-haifa/dps-freq/dps-freq-omer-bk.ipynb#W3sZmlsZQ%3D%3D?line=3'>4</a>\u001b[0m df_raw \u001b[39m=\u001b[39m pd\u001b[39m.\u001b[39mread_excel(\u001b[39m\"\u001b[39m\u001b[39momer/raw-data.xlsx\u001b[39m\u001b[39m\"\u001b[39m)  \n\u001b[0;32m----> <a href='vscode-notebook-cell:/Users/eliormalul/work/maccabi-haifa/dps-freq/dps-freq-omer-bk.ipynb#W3sZmlsZQ%3D%3D?line=4'>5</a>\u001b[0m df_data \u001b[39m=\u001b[39m prepare_dps_freq(df_raw)\n",
      "File \u001b[0;32m~/work/maccabi-haifa/dps-freq/toolkit/utils.py:70\u001b[0m, in \u001b[0;36mprepare_dps_freq\u001b[0;34m(df)\u001b[0m\n\u001b[1;32m     69\u001b[0m \u001b[39mdef\u001b[39;00m \u001b[39mprepare_dps_freq\u001b[39m(df: pd\u001b[39m.\u001b[39mDataFrame) \u001b[39m-\u001b[39m\u001b[39m>\u001b[39m pd\u001b[39m.\u001b[39mDataFrame:\n\u001b[0;32m---> 70\u001b[0m     __assert_schema(df)\n\u001b[1;32m     71\u001b[0m     colnames \u001b[39m=\u001b[39m {\n\u001b[1;32m     72\u001b[0m         \u001b[39m\"\u001b[39m\u001b[39mmeasurement\u001b[39m\u001b[39m\"\u001b[39m: \u001b[39m\"\u001b[39m\u001b[39mmeasurement\u001b[39m\u001b[39m\"\u001b[39m,\n\u001b[1;32m     73\u001b[0m         \u001b[39m\"\u001b[39m\u001b[39mtime\u001b[39m\u001b[39m\"\u001b[39m: \u001b[39m\"\u001b[39m\u001b[39minterval-time\u001b[39m\u001b[39m\"\u001b[39m,\n\u001b[1;32m     74\u001b[0m         \u001b[39m\"\u001b[39m\u001b[39mspeed\u001b[39m\u001b[39m\"\u001b[39m: SPEED_COL,\n\u001b[1;32m     75\u001b[0m         }\n\u001b[1;32m     76\u001b[0m     df_cycles \u001b[39m=\u001b[39m df\u001b[39m.\u001b[39mloc[df[colnames[\u001b[39m\"\u001b[39m\u001b[39mmeasurement\u001b[39m\u001b[39m\"\u001b[39m]] \u001b[39m==\u001b[39m \u001b[39m\"\u001b[39m\u001b[39mcycle\u001b[39m\u001b[39m\"\u001b[39m]\n",
      "File \u001b[0;32m~/work/maccabi-haifa/dps-freq/toolkit/utils.py:62\u001b[0m, in \u001b[0;36m__assert_schema\u001b[0;34m(df)\u001b[0m\n\u001b[1;32m     55\u001b[0m schema_columns \u001b[39m=\u001b[39m [\n\u001b[1;32m     56\u001b[0m     \u001b[39m\"\u001b[39m\u001b[39mmeasurement\u001b[39m\u001b[39m\"\u001b[39m,\n\u001b[1;32m     57\u001b[0m     \u001b[39m\"\u001b[39m\u001b[39minterval-time\u001b[39m\u001b[39m\"\u001b[39m,\n\u001b[1;32m     58\u001b[0m     \u001b[39m\"\u001b[39m\u001b[39mid\u001b[39m\u001b[39m\"\u001b[39m,\n\u001b[1;32m     59\u001b[0m     \u001b[39m\"\u001b[39m\u001b[39mdistance\u001b[39m\u001b[39m\"\u001b[39m\n\u001b[1;32m     60\u001b[0m ]\n\u001b[1;32m     61\u001b[0m \u001b[39mfor\u001b[39;00m col \u001b[39min\u001b[39;00m schema_columns:\n\u001b[0;32m---> 62\u001b[0m     \u001b[39massert\u001b[39;00m col \u001b[39min\u001b[39;00m columns, \u001b[39mf\u001b[39m\u001b[39m\"\u001b[39m\u001b[39mColumn \u001b[39m\u001b[39m'\u001b[39m\u001b[39m{\u001b[39;00mcol\u001b[39m}\u001b[39;00m\u001b[39m'\u001b[39m\u001b[39m is missing from data file\u001b[39m\u001b[39m\"\u001b[39m\n\u001b[1;32m     63\u001b[0m ids \u001b[39m=\u001b[39m df[\u001b[39m\"\u001b[39m\u001b[39mid\u001b[39m\u001b[39m\"\u001b[39m]\u001b[39m.\u001b[39munique()\n\u001b[1;32m     64\u001b[0m bo_distances \u001b[39m=\u001b[39m df\u001b[39m.\u001b[39mloc[\u001b[39m~\u001b[39mnp\u001b[39m.\u001b[39misnan(df[\u001b[39m\"\u001b[39m\u001b[39mdistance\u001b[39m\u001b[39m\"\u001b[39m])][\u001b[39m\"\u001b[39m\u001b[39mdistance\u001b[39m\u001b[39m\"\u001b[39m]\n",
      "\u001b[0;31mAssertionError\u001b[0m: Column 'measurement' is missing from data file"
     ]
    }
   ],
   "source": [
    "import numpy as np\n",
    "\n",
    "\n",
    "df_raw = pd.read_excel(\"omer/raw-data.xlsx\")  \n",
    "df_data = prepare_dps_freq(df_raw)"
   ]
  },
  {
   "cell_type": "markdown",
   "metadata": {},
   "source": [
    "# "
   ]
  },
  {
   "cell_type": "markdown",
   "metadata": {},
   "source": [
    "# Outliers removal"
   ]
  },
  {
   "cell_type": "markdown",
   "metadata": {},
   "source": [
    "As this test suffered from outliers (coincidence?) after removing them, we get a clearer picture."
   ]
  },
  {
   "cell_type": "code",
   "execution_count": null,
   "metadata": {},
   "outputs": [
    {
     "ename": "",
     "evalue": "",
     "output_type": "error",
     "traceback": [
      "\u001b[1;31mRunning cells with '/opt/homebrew/bin/python3' requires the ipykernel package.\n",
      "\u001b[1;31mRun the following command to install 'ipykernel' into the Python environment. \n",
      "\u001b[1;31mCommand: '/opt/homebrew/bin/python3 -m pip install ipykernel -U --user --force-reinstall'"
     ]
    }
   ],
   "source": [
    "display(df_data.sort_values(\"Frequency\"))\n",
    "df_wo_outliers = df_data.sort_values(\"Frequency\").drop(index=[4, 8])\n",
    "display_analysis(df_wo_outliers)"
   ]
  },
  {
   "cell_type": "code",
   "execution_count": null,
   "metadata": {},
   "outputs": [
    {
     "ename": "",
     "evalue": "",
     "output_type": "error",
     "traceback": [
      "\u001b[1;31mRunning cells with '/opt/homebrew/bin/python3' requires the ipykernel package.\n",
      "\u001b[1;31mRun the following command to install 'ipykernel' into the Python environment. \n",
      "\u001b[1;31mCommand: '/opt/homebrew/bin/python3 -m pip install ipykernel -U --user --force-reinstall'"
     ]
    }
   ],
   "source": [
    "display(df_raw)"
   ]
  },
  {
   "cell_type": "code",
   "execution_count": null,
   "metadata": {},
   "outputs": [
    {
     "ename": "",
     "evalue": "",
     "output_type": "error",
     "traceback": [
      "\u001b[1;31mRunning cells with '/opt/homebrew/bin/python3' requires the ipykernel package.\n",
      "\u001b[1;31mRun the following command to install 'ipykernel' into the Python environment. \n",
      "\u001b[1;31mCommand: '/opt/homebrew/bin/python3 -m pip install ipykernel -U --user --force-reinstall'"
     ]
    }
   ],
   "source": [
    "import seaborn as sns\n",
    "import matplotlib.pyplot as plt\n",
    "\n",
    "\n",
    "fig, ax = plt.subplots(nrows=3)\n",
    "\n",
    "df_cycle = df_raw.loc[df_raw[\"Type\"] == \"cycle\"]\n",
    "df_cycle[\"Frequency\"] = 60 / df_cycle[\"Time\"]\n",
    "df_melted = pd.melt(frame=df_cycle, id_vars=\"id\", value_vars=\"Frequency\")\n",
    "df_melted[\"order\"] = df_raw.groupby(\"id\", as_index=False).cumcount()\n",
    "\n",
    "df_melted_lo, df_melted_mid, df_melted_hi = (\n",
    "    df_melted[df_melted[\"id\"] < 4],\n",
    "    df_melted[(df_melted[\"id\"] < 7) & (df_melted[\"id\"] >= 4)],\n",
    "    df_melted[df_melted[\"id\"] >= 7])\n",
    "# display(df_melted)\n",
    "sns.lineplot(data=df_melted_lo, x=\"order\", y=\"value\", hue=\"id\", ax=ax[0])\n",
    "sns.lineplot(data=df_melted_mid, x=\"order\", y=\"value\", hue=\"id\", ax=ax[1])\n",
    "sns.lineplot(data=df_melted_hi, x=\"order\", y=\"value\", hue=\"id\", ax=ax[2])\n"
   ]
  },
  {
   "cell_type": "code",
   "execution_count": null,
   "metadata": {},
   "outputs": [
    {
     "ename": "",
     "evalue": "",
     "output_type": "error",
     "traceback": [
      "\u001b[1;31mRunning cells with '/opt/homebrew/bin/python3' requires the ipykernel package.\n",
      "\u001b[1;31mRun the following command to install 'ipykernel' into the Python environment. \n",
      "\u001b[1;31mCommand: '/opt/homebrew/bin/python3 -m pip install ipykernel -U --user --force-reinstall'"
     ]
    }
   ],
   "source": []
  }
 ],
 "metadata": {
  "kernelspec": {
   "display_name": "Python 3 (ipykernel)",
   "language": "python",
   "name": "python3"
  },
  "language_info": {
   "codemirror_mode": {
    "name": "ipython",
    "version": 3
   },
   "file_extension": ".py",
   "mimetype": "text/x-python",
   "name": "python",
   "nbconvert_exporter": "python",
   "pygments_lexer": "ipython3",
   "version": "3.11.6"
  }
 },
 "nbformat": 4,
 "nbformat_minor": 5
}
